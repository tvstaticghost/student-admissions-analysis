{
 "cells": [
  {
   "cell_type": "code",
   "execution_count": 2,
   "metadata": {},
   "outputs": [],
   "source": [
    "import pandas as pd\n",
    "import matplotlib.pyplot as plt\n",
    "import seaborn as sns\n",
    "from sklearn.linear_model import LogisticRegression\n",
    "\n",
    "df = pd.read_csv('student_admission_record_dirty.csv')"
   ]
  },
  {
   "cell_type": "code",
   "execution_count": 3,
   "metadata": {},
   "outputs": [
    {
     "name": "stdout",
     "output_type": "stream",
     "text": [
      "<class 'pandas.core.frame.DataFrame'>\n",
      "RangeIndex: 157 entries, 0 to 156\n",
      "Data columns (total 7 columns):\n",
      " #   Column                  Non-Null Count  Dtype  \n",
      "---  ------                  --------------  -----  \n",
      " 0   Name                    147 non-null    object \n",
      " 1   Age                     147 non-null    float64\n",
      " 2   Gender                  147 non-null    object \n",
      " 3   Admission Test Score    146 non-null    float64\n",
      " 4   High School Percentage  146 non-null    float64\n",
      " 5   City                    147 non-null    object \n",
      " 6   Admission Status        147 non-null    object \n",
      "dtypes: float64(3), object(4)\n",
      "memory usage: 8.7+ KB\n"
     ]
    }
   ],
   "source": [
    "df.info()"
   ]
  },
  {
   "cell_type": "code",
   "execution_count": 4,
   "metadata": {},
   "outputs": [
    {
     "data": {
      "text/plain": [
       "Name                      10\n",
       "Age                       10\n",
       "Gender                    10\n",
       "Admission Test Score      11\n",
       "High School Percentage    11\n",
       "City                      10\n",
       "Admission Status          10\n",
       "dtype: int64"
      ]
     },
     "execution_count": 4,
     "metadata": {},
     "output_type": "execute_result"
    }
   ],
   "source": [
    "df.isnull().sum()"
   ]
  },
  {
   "cell_type": "code",
   "execution_count": 5,
   "metadata": {},
   "outputs": [],
   "source": [
    "df = df.drop_duplicates()"
   ]
  },
  {
   "cell_type": "code",
   "execution_count": 6,
   "metadata": {},
   "outputs": [],
   "source": [
    "student_name_null_count = df['Name'].isnull().sum() # 10 missing names\n",
    "df[df['Name'].isna()]\n",
    "# keeping data as it contains other important information needed for analysis\n",
    "df['Name'] = df['Name'].fillna('Unknown') # fill in empty names with Unknown"
   ]
  },
  {
   "cell_type": "code",
   "execution_count": 7,
   "metadata": {},
   "outputs": [],
   "source": [
    "student_age_null_count = df['Age'].isnull().sum() # 10 missing 'Age' values\n",
    "age_mean = round(df['Age'].mean())\n",
    "\n",
    "# Fill missing values in 'Age' with the mean value\n",
    "df['Age'] = df['Age'].fillna(age_mean)"
   ]
  },
  {
   "cell_type": "code",
   "execution_count": 8,
   "metadata": {},
   "outputs": [],
   "source": [
    "#Remove entries with null values for Admission Test Scores, High School Percentage, or Admissions Status\n",
    "score_nulls = df[(df['Admission Test Score'].isna()) | (df['High School Percentage'].isna()) | (df['Admission Status'].isna())].index\n",
    "df = df.drop(score_nulls)"
   ]
  },
  {
   "cell_type": "code",
   "execution_count": 9,
   "metadata": {},
   "outputs": [],
   "source": [
    "#Remove entries with null 'City' values\n",
    "city_nulls = df[df['City'].isna()].index\n",
    "df = df.drop(city_nulls)"
   ]
  },
  {
   "cell_type": "code",
   "execution_count": 10,
   "metadata": {},
   "outputs": [],
   "source": [
    "#Fill entries with null 'Gender' values with 'Unknown'\n",
    "df['Gender'] = df['Gender'].fillna('Unknown')"
   ]
  },
  {
   "cell_type": "code",
   "execution_count": 11,
   "metadata": {},
   "outputs": [
    {
     "data": {
      "text/plain": [
       "Name                      0\n",
       "Age                       0\n",
       "Gender                    0\n",
       "Admission Test Score      0\n",
       "High School Percentage    0\n",
       "City                      0\n",
       "Admission Status          0\n",
       "dtype: int64"
      ]
     },
     "execution_count": 11,
     "metadata": {},
     "output_type": "execute_result"
    }
   ],
   "source": [
    "df.isnull().sum() #0 nulls for every column"
   ]
  },
  {
   "cell_type": "code",
   "execution_count": 12,
   "metadata": {},
   "outputs": [
    {
     "data": {
      "text/html": [
       "<div>\n",
       "<style scoped>\n",
       "    .dataframe tbody tr th:only-of-type {\n",
       "        vertical-align: middle;\n",
       "    }\n",
       "\n",
       "    .dataframe tbody tr th {\n",
       "        vertical-align: top;\n",
       "    }\n",
       "\n",
       "    .dataframe thead th {\n",
       "        text-align: right;\n",
       "    }\n",
       "</style>\n",
       "<table border=\"1\" class=\"dataframe\">\n",
       "  <thead>\n",
       "    <tr style=\"text-align: right;\">\n",
       "      <th></th>\n",
       "      <th>Age</th>\n",
       "      <th>Admission Test Score</th>\n",
       "      <th>High School Percentage</th>\n",
       "    </tr>\n",
       "  </thead>\n",
       "  <tbody>\n",
       "    <tr>\n",
       "      <th>count</th>\n",
       "      <td>117.000000</td>\n",
       "      <td>117.000000</td>\n",
       "      <td>117.000000</td>\n",
       "    </tr>\n",
       "    <tr>\n",
       "      <th>mean</th>\n",
       "      <td>19.675214</td>\n",
       "      <td>77.478632</td>\n",
       "      <td>76.245299</td>\n",
       "    </tr>\n",
       "    <tr>\n",
       "      <th>std</th>\n",
       "      <td>4.514019</td>\n",
       "      <td>15.631312</td>\n",
       "      <td>16.764851</td>\n",
       "    </tr>\n",
       "    <tr>\n",
       "      <th>min</th>\n",
       "      <td>-1.000000</td>\n",
       "      <td>-5.000000</td>\n",
       "      <td>-10.000000</td>\n",
       "    </tr>\n",
       "    <tr>\n",
       "      <th>25%</th>\n",
       "      <td>18.000000</td>\n",
       "      <td>71.000000</td>\n",
       "      <td>66.510000</td>\n",
       "    </tr>\n",
       "    <tr>\n",
       "      <th>50%</th>\n",
       "      <td>20.000000</td>\n",
       "      <td>79.000000</td>\n",
       "      <td>78.300000</td>\n",
       "    </tr>\n",
       "    <tr>\n",
       "      <th>75%</th>\n",
       "      <td>22.000000</td>\n",
       "      <td>89.000000</td>\n",
       "      <td>90.050000</td>\n",
       "    </tr>\n",
       "    <tr>\n",
       "      <th>max</th>\n",
       "      <td>24.000000</td>\n",
       "      <td>99.000000</td>\n",
       "      <td>110.500000</td>\n",
       "    </tr>\n",
       "  </tbody>\n",
       "</table>\n",
       "</div>"
      ],
      "text/plain": [
       "              Age  Admission Test Score  High School Percentage\n",
       "count  117.000000            117.000000              117.000000\n",
       "mean    19.675214             77.478632               76.245299\n",
       "std      4.514019             15.631312               16.764851\n",
       "min     -1.000000             -5.000000              -10.000000\n",
       "25%     18.000000             71.000000               66.510000\n",
       "50%     20.000000             79.000000               78.300000\n",
       "75%     22.000000             89.000000               90.050000\n",
       "max     24.000000             99.000000              110.500000"
      ]
     },
     "execution_count": 12,
     "metadata": {},
     "output_type": "execute_result"
    }
   ],
   "source": [
    "#Seemingly odd values for 'Age' and 'Admission Test Score' and 'High School Percentage' mins and maxes\n",
    "df.describe()"
   ]
  },
  {
   "cell_type": "code",
   "execution_count": 13,
   "metadata": {},
   "outputs": [
    {
     "data": {
      "text/plain": [
       "<Axes: >"
      ]
     },
     "execution_count": 13,
     "metadata": {},
     "output_type": "execute_result"
    },
    {
     "data": {
      "image/png": "[encoded data removed]",
      "text/plain": [
       "<Figure size 640x480 with 1 Axes>"
      ]
     },
     "metadata": {},
     "output_type": "display_data"
    }
   ],
   "source": [
    "#A couple entries have scores below a 0%\n",
    "df.boxplot(column=['Admission Test Score', 'High School Percentage'])"
   ]
  },
  {
   "cell_type": "code",
   "execution_count": 14,
   "metadata": {},
   "outputs": [],
   "source": [
    "score_outliers = df[(df['Admission Test Score'] < 0) | (df['High School Percentage'] < 0)].index\n",
    "df = df.drop(score_outliers)"
   ]
  },
  {
   "cell_type": "code",
   "execution_count": 15,
   "metadata": {},
   "outputs": [],
   "source": [
    "#Convert 'Age' entries that are less than 0 to the mean age\n",
    "df.loc[df['Age'] < 0, 'Age'] = age_mean"
   ]
  },
  {
   "cell_type": "code",
   "execution_count": 32,
   "metadata": {},
   "outputs": [
    {
     "data": {
      "text/html": [
       "<div>\n",
       "<style scoped>\n",
       "    .dataframe tbody tr th:only-of-type {\n",
       "        vertical-align: middle;\n",
       "    }\n",
       "\n",
       "    .dataframe tbody tr th {\n",
       "        vertical-align: top;\n",
       "    }\n",
       "\n",
       "    .dataframe thead th {\n",
       "        text-align: right;\n",
       "    }\n",
       "</style>\n",
       "<table border=\"1\" class=\"dataframe\">\n",
       "  <thead>\n",
       "    <tr style=\"text-align: right;\">\n",
       "      <th></th>\n",
       "      <th>Age</th>\n",
       "      <th>Admission Test Score</th>\n",
       "      <th>High School Percentage</th>\n",
       "    </tr>\n",
       "  </thead>\n",
       "  <tbody>\n",
       "    <tr>\n",
       "      <th>Age</th>\n",
       "      <td>1.000000</td>\n",
       "      <td>-0.031316</td>\n",
       "      <td>0.126111</td>\n",
       "    </tr>\n",
       "    <tr>\n",
       "      <th>Admission Test Score</th>\n",
       "      <td>-0.031316</td>\n",
       "      <td>1.000000</td>\n",
       "      <td>-0.215795</td>\n",
       "    </tr>\n",
       "    <tr>\n",
       "      <th>High School Percentage</th>\n",
       "      <td>0.126111</td>\n",
       "      <td>-0.215795</td>\n",
       "      <td>1.000000</td>\n",
       "    </tr>\n",
       "  </tbody>\n",
       "</table>\n",
       "</div>"
      ],
      "text/plain": [
       "                             Age  Admission Test Score  High School Percentage\n",
       "Age                     1.000000             -0.031316                0.126111\n",
       "Admission Test Score   -0.031316              1.000000               -0.215795\n",
       "High School Percentage  0.126111             -0.215795                1.000000"
      ]
     },
     "execution_count": 32,
     "metadata": {},
     "output_type": "execute_result"
    }
   ],
   "source": [
    "df.corr(numeric_only=True)"
   ]
  }
 ],
 "metadata": {
  "kernelspec": {
   "display_name": "Python 3",
   "language": "python",
   "name": "python3"
  },
  "language_info": {
   "codemirror_mode": {
    "name": "ipython",
    "version": 3
   },
   "file_extension": ".py",
   "mimetype": "text/x-python",
   "name": "python",
   "nbconvert_exporter": "python",
   "pygments_lexer": "ipython3",
   "version": "3.12.0"
  }
 },
 "nbformat": 4,
 "nbformat_minor": 2
}
